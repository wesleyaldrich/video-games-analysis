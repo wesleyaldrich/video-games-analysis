{
 "cells": [
  {
   "cell_type": "markdown",
   "id": "6f22b195",
   "metadata": {},
   "source": [
    "## MERGED STEAM DATA"
   ]
  },
  {
   "cell_type": "code",
   "execution_count": 1,
   "id": "8fd8b10a",
   "metadata": {},
   "outputs": [
    {
     "name": "stdout",
     "output_type": "stream",
     "text": [
      "Collecting pandas\n",
      "  Using cached pandas-2.2.3-cp310-cp310-win_amd64.whl (11.6 MB)\n",
      "Collecting tzdata>=2022.7\n",
      "  Using cached tzdata-2025.2-py2.py3-none-any.whl (347 kB)\n",
      "Requirement already satisfied: python-dateutil>=2.8.2 in d:\\.study\\cawu5\\dm\\code\\video_games_env\\lib\\site-packages (from pandas) (2.9.0.post0)\n",
      "Collecting pytz>=2020.1\n",
      "  Using cached pytz-2025.2-py2.py3-none-any.whl (509 kB)\n",
      "Collecting numpy>=1.22.4\n",
      "  Downloading numpy-2.2.6-cp310-cp310-win_amd64.whl (12.9 MB)\n",
      "Requirement already satisfied: six>=1.5 in d:\\.study\\cawu5\\dm\\code\\video_games_env\\lib\\site-packages (from python-dateutil>=2.8.2->pandas) (1.17.0)\n",
      "Installing collected packages: tzdata, pytz, numpy, pandas\n",
      "Successfully installed numpy-2.2.6 pandas-2.2.3 pytz-2025.2 tzdata-2025.2\n",
      "Note: you may need to restart the kernel to use updated packages.\n"
     ]
    },
    {
     "name": "stderr",
     "output_type": "stream",
     "text": [
      "WARNING: You are using pip version 21.2.3; however, version 25.1.1 is available.\n",
      "You should consider upgrading via the 'd:\\.STUDY\\Cawu5\\DM\\CODE\\video_games_env\\Scripts\\python.exe -m pip install --upgrade pip' command.\n"
     ]
    }
   ],
   "source": [
    "%pip install pandas"
   ]
  },
  {
   "cell_type": "code",
   "execution_count": 2,
   "id": "59b7f8bb",
   "metadata": {},
   "outputs": [],
   "source": [
    "import pandas as pd"
   ]
  },
  {
   "cell_type": "code",
   "execution_count": 5,
   "id": "c79353f0",
   "metadata": {},
   "outputs": [
    {
     "name": "stdout",
     "output_type": "stream",
     "text": [
      "<class 'pandas.core.frame.DataFrame'>\n",
      "RangeIndex: 41170 entries, 0 to 41169\n",
      "Data columns (total 49 columns):\n",
      " #   Column                      Non-Null Count  Dtype  \n",
      "---  ------                      --------------  -----  \n",
      " 0   app_id                      41170 non-null  int64  \n",
      " 1   Name                        41170 non-null  object \n",
      " 2   Release date                41170 non-null  object \n",
      " 3   Required age                41170 non-null  int64  \n",
      " 4   Price                       41170 non-null  float64\n",
      " 5   DLC count                   41170 non-null  int64  \n",
      " 6   Detailed description        41123 non-null  object \n",
      " 7   About the game              41113 non-null  object \n",
      " 8   Short description           41156 non-null  object \n",
      " 9   Reviews                     7920 non-null   object \n",
      " 10  Header image                41170 non-null  object \n",
      " 11  Website                     23795 non-null  object \n",
      " 12  Support url                 23281 non-null  object \n",
      " 13  Support email               35091 non-null  object \n",
      " 14  Windows                     41170 non-null  bool   \n",
      " 15  Mac                         41170 non-null  bool   \n",
      " 16  Linux                       41170 non-null  bool   \n",
      " 17  Metacritic score            41170 non-null  int64  \n",
      " 18  Metacritic url              3619 non-null   object \n",
      " 19  Achievements                41170 non-null  int64  \n",
      " 20  Recommendations             41170 non-null  int64  \n",
      " 21  Notes                       5052 non-null   object \n",
      " 22  Supported languages         41157 non-null  object \n",
      " 23  Full audio languages        19288 non-null  object \n",
      " 24  Packages                    41170 non-null  object \n",
      " 25  Developers                  41096 non-null  object \n",
      " 26  Publishers                  40949 non-null  object \n",
      " 27  Categories                  40643 non-null  object \n",
      " 28  Genres                      41126 non-null  object \n",
      " 29  Screenshots                 41154 non-null  object \n",
      " 30  Movies                      39366 non-null  object \n",
      " 31  User score                  41170 non-null  int64  \n",
      " 32  Score rank                  2 non-null      float64\n",
      " 33  Positive                    41170 non-null  int64  \n",
      " 34  Negative                    41170 non-null  int64  \n",
      " 35  Estimated owners            41170 non-null  object \n",
      " 36  Average playtime forever    41170 non-null  int64  \n",
      " 37  Average playtime two weeks  41170 non-null  int64  \n",
      " 38  Median playtime forever     41170 non-null  int64  \n",
      " 39  Median playtime two weeks   41170 non-null  int64  \n",
      " 40  Peak CCU                    41170 non-null  int64  \n",
      " 41  Tags                        37480 non-null  object \n",
      " 42  rating                      41170 non-null  object \n",
      " 43  positive_ratio              41170 non-null  int64  \n",
      " 44  user_reviews                41170 non-null  int64  \n",
      " 45  price_final                 41170 non-null  float64\n",
      " 46  price_original              41170 non-null  float64\n",
      " 47  discount_y                  41170 non-null  float64\n",
      " 48  steam_deck                  41170 non-null  bool   \n",
      "dtypes: bool(4), float64(5), int64(16), object(24)\n",
      "memory usage: 14.3+ MB\n"
     ]
    }
   ],
   "source": [
    "df_steam = pd.read_csv('data/merged_steam_data.csv')\n",
    "\n",
    "df_steam.info()"
   ]
  }
 ],
 "metadata": {
  "kernelspec": {
   "display_name": "video_games_env",
   "language": "python",
   "name": "python3"
  },
  "language_info": {
   "codemirror_mode": {
    "name": "ipython",
    "version": 3
   },
   "file_extension": ".py",
   "mimetype": "text/x-python",
   "name": "python",
   "nbconvert_exporter": "python",
   "pygments_lexer": "ipython3",
   "version": "3.10.0"
  }
 },
 "nbformat": 4,
 "nbformat_minor": 5
}
